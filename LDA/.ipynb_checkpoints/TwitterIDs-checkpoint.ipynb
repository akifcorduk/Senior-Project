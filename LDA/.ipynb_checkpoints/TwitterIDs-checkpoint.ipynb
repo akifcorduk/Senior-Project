{
 "cells": [
  {
   "cell_type": "markdown",
   "metadata": {},
   "source": [
    "This code is for obtaining IDs of followers of a specified (TRT World in this code) Twitter account.\n",
    "\n",
    "Warning: You need API keys to connect. Also be aware of the limits of Twitter API."
   ]
  },
  {
   "cell_type": "code",
   "execution_count": 1,
   "metadata": {
    "collapsed": true
   },
   "outputs": [],
   "source": [
    "import twitter\n",
    "import json\n",
    "import tweepy\n",
    "import sys\n",
    "import datetime\n",
    "import detectlanguage\n",
    "\n",
    "consumer_key=\"\"\n",
    "consumer_secret=\"\"\n",
    "access_token=\"\"\n",
    "access_token_secret=\"\"\n",
    "    "
   ]
  },
  {
   "cell_type": "code",
   "execution_count": 2,
   "metadata": {
    "collapsed": true
   },
   "outputs": [],
   "source": [
    "api = twitter.Api(consumer_key=consumer_key,\n",
    "                  consumer_secret=consumer_secret,\n",
    "                  access_token_key=access_token,\n",
    "                  access_token_secret=access_token_secret)"
   ]
  },
  {
   "cell_type": "code",
   "execution_count": 3,
   "metadata": {
    "collapsed": false
   },
   "outputs": [
    {
     "name": "stdout",
     "output_type": "stream",
     "text": [
      "2 1557807257819141278\n",
      "3 1555174210788110692\n",
      "4 1553448145597588023\n",
      "5 1551097161288847704\n",
      "6 1548550429757066912\n",
      "7 1543767282618072659\n",
      "8 1540768233102516020\n",
      "9 1539961734416630751\n",
      "10 1537113361985299098\n",
      "11 1534883929915999711\n",
      "12 1533231557626426434\n",
      "13 1531188898279038491\n",
      "14 1521123536106264695\n",
      "15 1512023866513530116\n",
      "16 1500085881614245172\n"
     ]
    },
    {
     "ename": "TwitterError",
     "evalue": "[{'code': 88, 'message': 'Rate limit exceeded'}]",
     "output_type": "error",
     "traceback": [
      "\u001b[0;31m---------------------------------------------------------------------------\u001b[0m",
      "\u001b[0;31mTwitterError\u001b[0m                              Traceback (most recent call last)",
      "\u001b[0;32m<ipython-input-3-a9ef1ad6a4a8>\u001b[0m in \u001b[0;36m<module>\u001b[0;34m()\u001b[0m\n\u001b[1;32m     18\u001b[0m     \u001b[0mi\u001b[0m \u001b[1;33m=\u001b[0m \u001b[0mi\u001b[0m \u001b[1;33m+\u001b[0m \u001b[1;36m1\u001b[0m\u001b[1;33m\u001b[0m\u001b[0m\n\u001b[1;32m     19\u001b[0m     \u001b[0mf\u001b[0m \u001b[1;33m=\u001b[0m \u001b[0mopen\u001b[0m\u001b[1;33m(\u001b[0m\u001b[0mfilename\u001b[0m\u001b[1;33m,\u001b[0m \u001b[1;34m'w'\u001b[0m\u001b[1;33m,\u001b[0m \u001b[0mencoding\u001b[0m\u001b[1;33m=\u001b[0m\u001b[1;34m'utf-8'\u001b[0m\u001b[1;33m)\u001b[0m\u001b[1;33m\u001b[0m\u001b[0m\n\u001b[0;32m---> 20\u001b[0;31m     \u001b[0mncur\u001b[0m\u001b[1;33m,\u001b[0m \u001b[0mpcur\u001b[0m\u001b[1;33m,\u001b[0m \u001b[0mids\u001b[0m \u001b[1;33m=\u001b[0m \u001b[0mapi\u001b[0m\u001b[1;33m.\u001b[0m\u001b[0mGetFollowerIDsPaged\u001b[0m\u001b[1;33m(\u001b[0m\u001b[0mscreen_name\u001b[0m\u001b[1;33m=\u001b[0m\u001b[1;34m'trtworld'\u001b[0m\u001b[1;33m,\u001b[0m \u001b[0mcursor\u001b[0m\u001b[1;33m=\u001b[0m\u001b[0mncur\u001b[0m\u001b[1;33m,\u001b[0m \u001b[0mstringify_ids\u001b[0m\u001b[1;33m=\u001b[0m\u001b[1;32mTrue\u001b[0m\u001b[1;33m)\u001b[0m\u001b[1;33m\u001b[0m\u001b[0m\n\u001b[0m\u001b[1;32m     21\u001b[0m     \u001b[1;32mfor\u001b[0m \u001b[0mid\u001b[0m \u001b[1;32min\u001b[0m \u001b[0mids\u001b[0m\u001b[1;33m:\u001b[0m\u001b[1;33m\u001b[0m\u001b[0m\n\u001b[1;32m     22\u001b[0m         \u001b[0mf\u001b[0m\u001b[1;33m.\u001b[0m\u001b[0mwrite\u001b[0m\u001b[1;33m(\u001b[0m\u001b[0mid\u001b[0m\u001b[1;33m)\u001b[0m\u001b[1;33m\u001b[0m\u001b[0m\n",
      "\u001b[0;32mC:\\Users\\Burki\\Anaconda3\\lib\\site-packages\\twitter\\api.py\u001b[0m in \u001b[0;36mGetFollowerIDsPaged\u001b[0;34m(self, user_id, screen_name, cursor, stringify_ids, count)\u001b[0m\n\u001b[1;32m   2305\u001b[0m                                  \u001b[0mcursor\u001b[0m\u001b[1;33m=\u001b[0m\u001b[0mcursor\u001b[0m\u001b[1;33m,\u001b[0m\u001b[1;33m\u001b[0m\u001b[0m\n\u001b[1;32m   2306\u001b[0m                                  \u001b[0mstringify_ids\u001b[0m\u001b[1;33m=\u001b[0m\u001b[0mstringify_ids\u001b[0m\u001b[1;33m,\u001b[0m\u001b[1;33m\u001b[0m\u001b[0m\n\u001b[0;32m-> 2307\u001b[0;31m                                  count=count)\n\u001b[0m\u001b[1;32m   2308\u001b[0m \u001b[1;33m\u001b[0m\u001b[0m\n\u001b[1;32m   2309\u001b[0m     def GetFriendIDsPaged(self,\n",
      "\u001b[0;32mC:\\Users\\Burki\\Anaconda3\\lib\\site-packages\\twitter\\api.py\u001b[0m in \u001b[0;36m_GetIDsPaged\u001b[0;34m(self, url, user_id, screen_name, cursor, stringify_ids, count)\u001b[0m\n\u001b[1;32m   2256\u001b[0m \u001b[1;33m\u001b[0m\u001b[0m\n\u001b[1;32m   2257\u001b[0m         \u001b[0mresp\u001b[0m \u001b[1;33m=\u001b[0m \u001b[0mself\u001b[0m\u001b[1;33m.\u001b[0m\u001b[0m_RequestUrl\u001b[0m\u001b[1;33m(\u001b[0m\u001b[0murl\u001b[0m\u001b[1;33m,\u001b[0m \u001b[1;34m'GET'\u001b[0m\u001b[1;33m,\u001b[0m \u001b[0mdata\u001b[0m\u001b[1;33m=\u001b[0m\u001b[0mparameters\u001b[0m\u001b[1;33m)\u001b[0m\u001b[1;33m\u001b[0m\u001b[0m\n\u001b[0;32m-> 2258\u001b[0;31m         \u001b[0mdata\u001b[0m \u001b[1;33m=\u001b[0m \u001b[0mself\u001b[0m\u001b[1;33m.\u001b[0m\u001b[0m_ParseAndCheckTwitter\u001b[0m\u001b[1;33m(\u001b[0m\u001b[0mresp\u001b[0m\u001b[1;33m.\u001b[0m\u001b[0mcontent\u001b[0m\u001b[1;33m.\u001b[0m\u001b[0mdecode\u001b[0m\u001b[1;33m(\u001b[0m\u001b[1;34m'utf-8'\u001b[0m\u001b[1;33m)\u001b[0m\u001b[1;33m)\u001b[0m\u001b[1;33m\u001b[0m\u001b[0m\n\u001b[0m\u001b[1;32m   2259\u001b[0m \u001b[1;33m\u001b[0m\u001b[0m\n\u001b[1;32m   2260\u001b[0m         \u001b[1;32mif\u001b[0m \u001b[1;34m'ids'\u001b[0m \u001b[1;32min\u001b[0m \u001b[0mdata\u001b[0m\u001b[1;33m:\u001b[0m\u001b[1;33m\u001b[0m\u001b[0m\n",
      "\u001b[0;32mC:\\Users\\Burki\\Anaconda3\\lib\\site-packages\\twitter\\api.py\u001b[0m in \u001b[0;36m_ParseAndCheckTwitter\u001b[0;34m(self, json_data)\u001b[0m\n\u001b[1;32m   4859\u001b[0m                 \u001b[1;32mraise\u001b[0m \u001b[0mTwitterError\u001b[0m\u001b[1;33m(\u001b[0m\u001b[1;33m{\u001b[0m\u001b[1;34m'message'\u001b[0m\u001b[1;33m:\u001b[0m \u001b[1;34m\"Unauthorized\"\u001b[0m\u001b[1;33m}\u001b[0m\u001b[1;33m)\u001b[0m\u001b[1;33m\u001b[0m\u001b[0m\n\u001b[1;32m   4860\u001b[0m             \u001b[1;32mraise\u001b[0m \u001b[0mTwitterError\u001b[0m\u001b[1;33m(\u001b[0m\u001b[1;33m{\u001b[0m\u001b[1;34m'Unknown error: {0}'\u001b[0m\u001b[1;33m.\u001b[0m\u001b[0mformat\u001b[0m\u001b[1;33m(\u001b[0m\u001b[0mjson_data\u001b[0m\u001b[1;33m)\u001b[0m\u001b[1;33m}\u001b[0m\u001b[1;33m)\u001b[0m\u001b[1;33m\u001b[0m\u001b[0m\n\u001b[0;32m-> 4861\u001b[0;31m         \u001b[0mself\u001b[0m\u001b[1;33m.\u001b[0m\u001b[0m_CheckForTwitterError\u001b[0m\u001b[1;33m(\u001b[0m\u001b[0mdata\u001b[0m\u001b[1;33m)\u001b[0m\u001b[1;33m\u001b[0m\u001b[0m\n\u001b[0m\u001b[1;32m   4862\u001b[0m         \u001b[1;32mreturn\u001b[0m \u001b[0mdata\u001b[0m\u001b[1;33m\u001b[0m\u001b[0m\n\u001b[1;32m   4863\u001b[0m \u001b[1;33m\u001b[0m\u001b[0m\n",
      "\u001b[0;32mC:\\Users\\Burki\\Anaconda3\\lib\\site-packages\\twitter\\api.py\u001b[0m in \u001b[0;36m_CheckForTwitterError\u001b[0;34m(data)\u001b[0m\n\u001b[1;32m   4879\u001b[0m             \u001b[1;32mraise\u001b[0m \u001b[0mTwitterError\u001b[0m\u001b[1;33m(\u001b[0m\u001b[0mdata\u001b[0m\u001b[1;33m[\u001b[0m\u001b[1;34m'error'\u001b[0m\u001b[1;33m]\u001b[0m\u001b[1;33m)\u001b[0m\u001b[1;33m\u001b[0m\u001b[0m\n\u001b[1;32m   4880\u001b[0m         \u001b[1;32mif\u001b[0m \u001b[1;34m'errors'\u001b[0m \u001b[1;32min\u001b[0m \u001b[0mdata\u001b[0m\u001b[1;33m:\u001b[0m\u001b[1;33m\u001b[0m\u001b[0m\n\u001b[0;32m-> 4881\u001b[0;31m             \u001b[1;32mraise\u001b[0m \u001b[0mTwitterError\u001b[0m\u001b[1;33m(\u001b[0m\u001b[0mdata\u001b[0m\u001b[1;33m[\u001b[0m\u001b[1;34m'errors'\u001b[0m\u001b[1;33m]\u001b[0m\u001b[1;33m)\u001b[0m\u001b[1;33m\u001b[0m\u001b[0m\n\u001b[0m\u001b[1;32m   4882\u001b[0m \u001b[1;33m\u001b[0m\u001b[0m\n\u001b[1;32m   4883\u001b[0m     \u001b[1;32mdef\u001b[0m \u001b[0m_RequestChunkedUpload\u001b[0m\u001b[1;33m(\u001b[0m\u001b[0mself\u001b[0m\u001b[1;33m,\u001b[0m \u001b[0murl\u001b[0m\u001b[1;33m,\u001b[0m \u001b[0mheaders\u001b[0m\u001b[1;33m,\u001b[0m \u001b[0mdata\u001b[0m\u001b[1;33m)\u001b[0m\u001b[1;33m:\u001b[0m\u001b[1;33m\u001b[0m\u001b[0m\n",
      "\u001b[0;31mTwitterError\u001b[0m: [{'code': 88, 'message': 'Rate limit exceeded'}]"
     ]
    }
   ],
   "source": [
    "#ids = api.GetFollowerIDs(screen_name='trtworld', cursor=None, stringify_ids=True, count=5, total_count=5)\n",
    "\n",
    "f = open('followers1.txt', 'w', encoding='utf-8')\n",
    "\n",
    "ncur, pcur, ids = api.GetFollowerIDsPaged(screen_name='trtworld', cursor=-1, stringify_ids=True)\n",
    "\n",
    "for id in ids:\n",
    "    f.write(id)\n",
    "    f.write(\"\\n\")\n",
    "\n",
    "    \n",
    "f.close()\n",
    "\n",
    "i = 2\n",
    "while(ncur != 0):\n",
    "    print(str(i) + ' ' + str(ncur))\n",
    "    filename = 'followers' + str(i) + '.txt'\n",
    "    i = i + 1\n",
    "    f = open(filename, 'w', encoding='utf-8')\n",
    "    ncur, pcur, ids = api.GetFollowerIDsPaged(screen_name='trtworld', cursor=ncur, stringify_ids=True)\n",
    "    for id in ids:\n",
    "        f.write(id)\n",
    "        f.write(\"\\n\")\n",
    "        \n",
    "    f.close()"
   ]
  },
  {
   "cell_type": "code",
   "execution_count": null,
   "metadata": {
    "collapsed": true
   },
   "outputs": [],
   "source": []
  }
 ],
 "metadata": {
  "anaconda-cloud": {},
  "kernelspec": {
   "display_name": "Python [conda root]",
   "language": "python",
   "name": "conda-root-py"
  },
  "language_info": {
   "codemirror_mode": {
    "name": "ipython",
    "version": 3
   },
   "file_extension": ".py",
   "mimetype": "text/x-python",
   "name": "python",
   "nbconvert_exporter": "python",
   "pygments_lexer": "ipython3",
   "version": "3.5.2"
  }
 },
 "nbformat": 4,
 "nbformat_minor": 1
}
