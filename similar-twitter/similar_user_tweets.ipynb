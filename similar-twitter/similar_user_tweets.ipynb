{
 "cells": [
  {
   "cell_type": "code",
   "execution_count": 71,
   "metadata": {
    "collapsed": false
   },
   "outputs": [],
   "source": [
    "import json\n",
    "import sys\n",
    "import datetime\n",
    "import re\n",
    "import os\n",
    "import time\n",
    "from birdy.twitter import UserClient, BirdyException \n",
    "import numpy as np\n",
    "from time import sleep\n",
    "import pandas as pd\n",
    "import pickle\n",
    "\n",
    "key = [\n",
    "    [\"\", \"\", \"\", \"\"]\n",
    "]\n",
    "\n",
    "client = UserClient(key[0][0], key[0][1], key[0][2], key[0][3])"
   ]
  },
  {
   "cell_type": "code",
   "execution_count": 79,
   "metadata": {
    "collapsed": false
   },
   "outputs": [
    {
     "name": "stdout",
     "output_type": "stream",
     "text": [
      "['karpathy', 'AndrewYNg', 'drfeifei', 'AlecRad', 'KirkDBorne', 'hmason', 'hadleywickham\\n']\n",
      "4\n",
      "567\n",
      "['NateSilver538', 'googleresearch', 'googleanalytics', 'dez_blanchfield', 'TwitterData', 'HansRosling', 'MongoDB', 'ValaAfshar', 'avinash', 'analyticbridge', 'IBMBigData', 'dr_morton', 'DARPA', 'KirkDBorne', 'simonlporter', 'hortonworks', 'AndrewYNg', 'GreatAnalytics', 'Informatica', 'IBMcloud', 'IBMAnalytics', 'tableau', 'cloudera', 'MaxCRoser', 'jeremywaite', 'hmason', 'DataScienceCtrl', 'AKQA', 'BernardMarr', 'Ronald_vanLoon', 'gruset', 'dhawaldamania', 'kdnuggets', 'mitsmr', 'MSPowerBI', 'kaggle', 'DataSciFact', 'flowingdata', 'JDavidMorris', 'mikejulietbravo', 'plotlygraphs', 'drfeifei', 'BigDataGal', 'EvanSinar', 'SebastianThrun', 'karpathy', 'mgualtieri', 'Mark_Carey', 'Doug_Laney', 'OttLegalRebels', 'EXAGolo', 'ylecun', 'ipfconline1', 'simplystats', 'Rbloggers', 'mapr', '7wData', 'BigDataBlogs', 'MrDataScience', 'hadleywickham', 'DimensionData', 'pivotal', 'BoozAllen', 'rstudio', 'RLangTip', 'dpatil', 'Teradata', 'novaspivack', 'data_nerd', 'bigdata', 'peteskomoroch', 'MicroStrategy', 'SASsoftware', 'DJ44', 'ML_toparticles', 'WesleyGransden', 'strataconf', 'LinkedInEng', 'SmartDataCo', 'DodgeData', 'odsc', 'stanfordnlp', 'DeepLearningHub', 'jtoy', 'mrogati', 'MIT_CSAIL', 'hackingdata', 'Datafloq', 'bobehayes', 'merv', 'SASanalytics', 'v_vashishta', 'TDWI', 'DBaker007', 'ML_NLP', 'Data_Informed', 'TheTerminal', 'justincutroni', 'AirbnbEng', 'marcusborba', 'ralphopinions', 'revodavid', 'fchollet', 'NandoDF', 'ddjournalism', 'DataKind', 'gp_pulipaka', 'rdpeng', 'DadiCharles', 'ds_ldn', 'cvo_website', 'deeplearning4j', 'howarddresner', 'EXASOLAG', 'hugo_larochelle', 'PaulTDenham', 'wesmckinn', 'AlexanderD_Beck', 'jameskobielus', 'magentobi', 'drewconway', 'NoSQLDigest', 'goodfellow_ian', 'johnmyleswhite', 'databricks', 'galvanize', 'williammcknight', 'antgoldbloom', 'jure', 'ogrisel', 'dabeaz', 'jackclarkSF', 'AnthonyNystrom', 'soumithchintala', 'apachekafka', 'bevelson', 'shawnrog', 'jaykreps', 'NeilRaden', 'GilPress', 'Dataversity', 'm_sendhil', 'gdb', 'PyData', 'ContinuumIO', 'DataJunkie', 'michael_nielsen', 'ThoHeller', 'BecomingDataSci', 'stoyanstefanov', 'FrankPasquale', 'BaiduResearch', 'amuellerml', 'WeAreManthan', 'alexjc', 'trieloff', 'ema_research', 'JohnSnowLabs', 'rasbt', 'jhurwitz', 'ProjectJupyter', 'datagenius', 'jakevdp', 'hspter', 'VanRijmenam', 'lisachwinter', 'tableaupublic', 'nprviz', 'seanjtaylor', 'alteryx', '_krisjack', 'thinkmariya', 'sedielem', 'mjcavaretta', 'iamtrask', 'jeremyphoward', 'shakir_za', 'jaimefitzgerald', 'datameer', 'MikeTamir', 'fperez_org', 'chrisalbon', 'DiegoKuonen', 'UCSDNeuro', 'tlipcon', 'TonyBaer', 'xamat', 'DataCamp', 'josh_wills', 'petewarden', 'benhamner', 'ch402', 'teoliphant', 'IPythonDev', 'Datawatch', 'dataandme', 'samim', 'johnlmyers44', 'nehanarkhede', 'edd', 'deeplearningldn', 'ctricot', 'drob', 'dataiku', 'pmddomingos', 'AnalyticsCloud', 'mikeferguson1', 'YhatHQ', 'gcosma1', 'michellewetzler', 'ryan_p_adams', 'datastories', 'Nigel_Shadbolt', 'Springboard', 'pwang', 'AnalyticsVidhya', 'sachinuppal', 'storywithdata', 'BerkeleyData', 'hardmaru', 'HealthCatalyst', 'arnicas', 'dennybritz', 'samcharrington', 'gtcomputing', 'VizWizBI', 'DeepSpiker', 'etzioni', 'lawrennd', 'CVCND', 'deanwampler', 'gwenshap', 'haldaume3', 'captainsafia', 'biogerontology', 'dtunkelang', 'FILWD', 'KenOConnorData', 'GaelVaroquaux', 'WalterReade', 'Medidata', 'wiseanalytics', 'earnmyturns', 'nschaetti', 'Bilafer', 'simplilearn', 'jennifermarsman', 'rmelody', 'notmisha', 'siah', 'tom_e_white', 'DataRobot', 'hannawallach', 'binaryloom', 'data_hpz', 'DominoDataLab', 'MIRIBerkeley', 'tomaspetricek', 'BigData_paulz', 'Affinio', 'Onalytica', 'h2oai', 'echen', 'erichorvitz', 'rockyd', 'egrefen', 'twiecki', 'Texata', 'mike_schatz', 'plamere', 'janexwang', 'clarecorthell', 'juliasilge', 'quantombone', 'rachelreese', 'fhuszar', 'RobertsPaige', 'm_learningnews', 'Smerity', 'AaronAuldDE', 'turiinc', 'AiGameDev', 'genekogan', 'RProgLangRR', 'ericoguizzo', 'ClouderaEng', 'thedatacrunch', 'partiallyd', 'mrnews', 'Reza_Zadeh', 'jonathonmorgan', 'CognitiveClass', 'teamrework', 'SnowflakedUK', 'deliprao', 'math_rachel', 'ellisonbg', 'startupml', 'BigDataSpeaker', 'jonesabi', 'Miles_Brundage', 'PyImageSearch', 'DamianMingle', 'DSI_Columbia', 'benjamingaines', 'AngeBassa', 'fastml_extra', 'DataMinerUK', 'Numenta', 'clarifai', 'im_sam007', 'MLconf', 'graphific', 'VisualFSharp', 'LorenaABarba', 'KaggleCareers', 'mdreid', 'CMastication', 'rbukralia', 'nervanasys', 'IBMdatamag', 'joelgrus', 'bigmlcom', 'ImDataScientist', 'ClouderaU', 'clmt', 'enjalot', 'BarryDevlin', 'SciPyConf', 'holdenkarau', 'BoozDataScience', 'brendan642', 'tonyojeda3', 'justmarkham', 'hire_ai', 'BYAnalytics_en', 'davidwhogg', 'kopshtik', 'syhw', 'robdthomas', 'Afafa_h', 'fulhack', 'suchisaria', 'thisismetis', 'PredictionIO', 'deanabb', 'indicoData', 'IgorCarron', 'infolabUK', 'john_lam', 'mattmayo13', 'Cmrn_DP', 'kchonyc', '__DataTau__', 'kscottz', 'acangiano', 'socialmetrix', 'ApacheDrill', 'berkeleyjess', 'thedatascilab', 'HarlanH', 'aheineike', 'mblondel_ml', 'beaucronin', 'JordiTorresBCN', 'aria42', 'dustinvtran', 'DataCommunityDC', 'RadimRehurek', 'boudicca', 'galois', 'RandomlyWalking', 'datiobd', 'lucene_solr', 'wzchen', 'nuclai', 'josephmisiti', 'Ellen_Friedman', 'yoavgo', 'DataSciGuide', 'tgrall', 'datapopup', 'mat_kelcey', 'databaseguru', 'jeroenhjanssens', 'julie_craig', 'allafarce', 'OReillyAI', 'mtyka', 'dwf', 'AllenDowney', 'gjreda', 'nikete', 'IndiaAM', 'metabrew', 'ch_doig', 'Alan_D_Duncan', '__ReJ__', 'QatarComputing', 'compvision', 'glouppe', 'frnsys', 'VizPainter', 'dreasoning', 'conormyhrvold', 'EddieACopeland', 'ericcolson', 'zelandiya', 'evelgab', 'NuanceInc', 'HITAnalytics', 'tonyshaw', 'noahmp', 'KyleCranmer', 'katsnelson', 'tamaramunzner', 'agramfort', 'jonathandrummey', 'jacobeisenstein', 'thefreemanlab', 'BayesianNetwork', 'Lumidatum', 'abunchofdata', 'minrk', 'DataVizAI', 'WiMLworkshop', 'splicemachine', 'kestelyn', 'DistrictDataLab', 'harrism', 'mrtz', 'seb_ruder', 'AshDamle', 'profjsb', 'dribnet', 'Securonix', 'analysis_factor', 'jeffheaton', 'jesolem', 'CiscoAnalytics', 'oceankidbilly', 'lmthang', 'techmilind', 'InfoMgmtExec', 'wahalulu', 'vkrakovna', 'brandondamos', 'honnibal', 'atveit', 'ryanswanstrom', 'dataquestio', 'DrexelPooja', 'louisdorard', 'ilparone', 'TedOBrien93', 'LUCA_D3', 'Mbussonn', 'eturner303', 'ArnoCandel', 'mpd37', 'chrisemoody', 'TungstenBigData', 'tianhuil', 'jeremyjkun', 'LH', 'abursuc', 'bkanber', 'srisatish', 'txoinc', 'DataScientistFr', 'rgbkrk', 'agibsonccc', 'bigdatalondon', 'abestanway', 'BigDataBuzzNet', 'arjones', 'BBVAData', 'wiseio', 'alexip', 'catherinebuk', 'edersantana', 'WIOMAX_PA', 'mrocklin', 'benm', 'davidandrzej', 'communicating', 'mhmazur', 'stefanvdwalt', 'bibleviz', 'MrChrisJohnson', 'chrshmmmr', 'umlujnews', 'ShellyFan', 'smly', 'VasantDhar', 'cyrillerossant', 'drivendataorg', 'zacharylipton', 'BigDataGeeks', 'CloudsWithCarl', 'adamlaiacano', 'CompSciOxford', 'sgrifter', 'TomAugspurger', 'gethue', 'kbreitman', 'born2data', 'WIOMAX_DC', 'donnaburbank', 'dnouri', 'JustGlowing', 'hmCuesta', 'rbhar90', 'abock', 'kastnerkyle', 'cfregly', '_onionesque', 'acrahen', 'jseabold', 'BenSullins', 'WithTheBest', 'alxndrkalinin', 'zaxtax', 'RodyZakovich', 'arnonrgo', 'fpjunqueira', 'JasonPunyon', 'SpeedeonData', '_DaveSullivan', 'EvaNahari', 'gideonmann', 'josh_tapley', 'YadFaeq', 'npinto', 'jeremystan', 'schooltds', 'aficionado', 'dmm613', 'jimmfleming', 'SVAIresearch', 'abhi1thakur', 'theagilist', 'PayrollJohnson', 'maxsklar', 'yncywy', 'mattfogel', 'j_trajkovic', 'jiffyclub', 'BlinkfireStats', 'simonchannet', 'dbamman', 'diazf_acm', 'darrenjw', 'demartsc', 'MaxKemman', 'd1ca1', 'stonse', 'ro_hit_', 'vincent_spruyt', 'ruchowdh', 'atpassos_ml', 'echenty', 'NicholasHould', 'leonpalafox', 'gorban', 'MatthewGombolay', 'dsacademybr']\n"
     ]
    }
   ],
   "source": [
    "# 0. id_str\t\t\t\t: ID of the user\n",
    "# 1. screen_name\t\t: Screen name of the user (@screen_name)\n",
    "# 2. followers_count\t: # Followers\n",
    "# 3. friends_count\t\t: # Following\n",
    "# 4. favourites_count\t: # Likes\n",
    "# 5. listed_count\t\t: Total number of list subscription and membership (?)\n",
    "# 6. statuses_count\t\t: # Tweets\n",
    "# 7. verified\t\t\t: True or False \n",
    "# 8. protected\t\t\t: True or False / if true can't crawl the account\n",
    "# 9. created_at\t\t\t: Creation time of the account / (2009-10-30 12:11:39)\n",
    "\n",
    "baseUsers = []\n",
    "baseLists = []\n",
    "usernames = []\n",
    "userIDs = []\n",
    "\n",
    "f = open(\"SimilarUsers.txt\", 'r', encoding='utf-8')\n",
    "\n",
    "# read base users\n",
    "baseUsers = f.readline().split(',')\n",
    "print(baseUsers)\n",
    "\n",
    "# read lists\n",
    "listNumber = int(f.readline())\n",
    "print(listNumber)\n",
    "for i in range(listNumber):\n",
    "    baseLists.append(f.readline().split(','))\n",
    "\n",
    "# read similar users\n",
    "for l in f.readlines():\n",
    "    if l.split(',')[8] == \"False\":\n",
    "        userIDs.append(l.split(',')[0])\n",
    "        usernames.append(l.split(',')[1])\n",
    "\n",
    "f.close()\n",
    "\n",
    "print(len(usernames))\n",
    "print(usernames)\n",
    "\n"
   ]
  },
  {
   "cell_type": "code",
   "execution_count": 77,
   "metadata": {
    "collapsed": false
   },
   "outputs": [
    {
     "name": "stdout",
     "output_type": "stream",
     "text": [
      "NateSilver538 - 16017475\n",
      "googleresearch - 33838201\n",
      "googleanalytics - 51263711\n"
     ]
    },
    {
     "ename": "KeyboardInterrupt",
     "evalue": "",
     "output_type": "error",
     "traceback": [
      "\u001b[0;31m---------------------------------------------------------------------------\u001b[0m",
      "\u001b[0;31mKeyboardInterrupt\u001b[0m                         Traceback (most recent call last)",
      "\u001b[0;32m<ipython-input-77-e292b6e8c741>\u001b[0m in \u001b[0;36m<module>\u001b[0;34m()\u001b[0m\n\u001b[1;32m     45\u001b[0m         \u001b[1;32mwhile\u001b[0m\u001b[1;33m(\u001b[0m\u001b[1;32mTrue\u001b[0m\u001b[1;33m)\u001b[0m\u001b[1;33m:\u001b[0m\u001b[1;33m\u001b[0m\u001b[0m\n\u001b[1;32m     46\u001b[0m             \u001b[1;32mtry\u001b[0m\u001b[1;33m:\u001b[0m\u001b[1;33m\u001b[0m\u001b[0m\n\u001b[0;32m---> 47\u001b[0;31m                 \u001b[0mresponse\u001b[0m \u001b[1;33m=\u001b[0m \u001b[0mclient\u001b[0m\u001b[1;33m.\u001b[0m\u001b[0mapi\u001b[0m\u001b[1;33m.\u001b[0m\u001b[0mstatuses\u001b[0m\u001b[1;33m.\u001b[0m\u001b[0muser_timeline\u001b[0m\u001b[1;33m.\u001b[0m\u001b[0mget\u001b[0m\u001b[1;33m(\u001b[0m\u001b[0muser_id\u001b[0m\u001b[1;33m=\u001b[0m\u001b[0muser\u001b[0m\u001b[1;33m,\u001b[0m \u001b[0mcount\u001b[0m\u001b[1;33m=\u001b[0m\u001b[1;36m200\u001b[0m\u001b[1;33m,\u001b[0m \u001b[0mmax_id\u001b[0m \u001b[1;33m=\u001b[0m \u001b[0mmaxID\u001b[0m\u001b[1;33m-\u001b[0m\u001b[1;36m1\u001b[0m\u001b[1;33m)\u001b[0m\u001b[1;33m\u001b[0m\u001b[0m\n\u001b[0m\u001b[1;32m     48\u001b[0m                 \u001b[1;32mbreak\u001b[0m\u001b[1;33m\u001b[0m\u001b[0m\n\u001b[1;32m     49\u001b[0m             \u001b[1;32mexcept\u001b[0m \u001b[0mException\u001b[0m \u001b[1;32mas\u001b[0m \u001b[0merr\u001b[0m\u001b[1;33m:\u001b[0m\u001b[1;33m\u001b[0m\u001b[0m\n",
      "\u001b[0;32mC:\\Users\\Burki\\Anaconda3\\lib\\site-packages\\birdy\\twitter.py\u001b[0m in \u001b[0;36mget\u001b[0;34m(self, **params)\u001b[0m\n\u001b[1;32m     70\u001b[0m         \u001b[1;32mif\u001b[0m \u001b[0mself\u001b[0m\u001b[1;33m.\u001b[0m\u001b[0m_path\u001b[0m \u001b[1;32mis\u001b[0m \u001b[1;32mNone\u001b[0m\u001b[1;33m:\u001b[0m\u001b[1;33m\u001b[0m\u001b[0m\n\u001b[1;32m     71\u001b[0m             \u001b[1;32mraise\u001b[0m \u001b[0mTypeError\u001b[0m\u001b[1;33m(\u001b[0m\u001b[1;34m'Calling get() on an empty API path is not supported.'\u001b[0m\u001b[1;33m)\u001b[0m\u001b[1;33m\u001b[0m\u001b[0m\n\u001b[0;32m---> 72\u001b[0;31m         \u001b[1;32mreturn\u001b[0m \u001b[0mself\u001b[0m\u001b[1;33m.\u001b[0m\u001b[0m_client\u001b[0m\u001b[1;33m.\u001b[0m\u001b[0mrequest\u001b[0m\u001b[1;33m(\u001b[0m\u001b[1;34m'GET'\u001b[0m\u001b[1;33m,\u001b[0m \u001b[0mself\u001b[0m\u001b[1;33m.\u001b[0m\u001b[0m_path\u001b[0m\u001b[1;33m,\u001b[0m \u001b[1;33m**\u001b[0m\u001b[0mparams\u001b[0m\u001b[1;33m)\u001b[0m\u001b[1;33m\u001b[0m\u001b[0m\n\u001b[0m\u001b[1;32m     73\u001b[0m \u001b[1;33m\u001b[0m\u001b[0m\n\u001b[1;32m     74\u001b[0m     \u001b[1;32mdef\u001b[0m \u001b[0mpost\u001b[0m\u001b[1;33m(\u001b[0m\u001b[0mself\u001b[0m\u001b[1;33m,\u001b[0m \u001b[1;33m**\u001b[0m\u001b[0mparams\u001b[0m\u001b[1;33m)\u001b[0m\u001b[1;33m:\u001b[0m\u001b[1;33m\u001b[0m\u001b[0m\n",
      "\u001b[0;32mC:\\Users\\Burki\\Anaconda3\\lib\\site-packages\\birdy\\twitter.py\u001b[0m in \u001b[0;36mrequest\u001b[0;34m(self, method, path, **params)\u001b[0m\n\u001b[1;32m    155\u001b[0m \u001b[1;33m\u001b[0m\u001b[0m\n\u001b[1;32m    156\u001b[0m         \u001b[1;32mtry\u001b[0m\u001b[1;33m:\u001b[0m\u001b[1;33m\u001b[0m\u001b[0m\n\u001b[0;32m--> 157\u001b[0;31m             \u001b[0mresponse\u001b[0m \u001b[1;33m=\u001b[0m \u001b[0mself\u001b[0m\u001b[1;33m.\u001b[0m\u001b[0mmake_api_call\u001b[0m\u001b[1;33m(\u001b[0m\u001b[0mmethod\u001b[0m\u001b[1;33m,\u001b[0m \u001b[0murl\u001b[0m\u001b[1;33m,\u001b[0m \u001b[1;33m**\u001b[0m\u001b[0mrequest_kwargs\u001b[0m\u001b[1;33m)\u001b[0m\u001b[1;33m\u001b[0m\u001b[0m\n\u001b[0m\u001b[1;32m    158\u001b[0m         \u001b[1;32mexcept\u001b[0m \u001b[0mrequests\u001b[0m\u001b[1;33m.\u001b[0m\u001b[0mRequestException\u001b[0m \u001b[1;32mas\u001b[0m \u001b[0me\u001b[0m\u001b[1;33m:\u001b[0m\u001b[1;33m\u001b[0m\u001b[0m\n\u001b[1;32m    159\u001b[0m             \u001b[1;32mraise\u001b[0m \u001b[0mTwitterClientError\u001b[0m\u001b[1;33m(\u001b[0m\u001b[0mstr\u001b[0m\u001b[1;33m(\u001b[0m\u001b[0me\u001b[0m\u001b[1;33m)\u001b[0m\u001b[1;33m,\u001b[0m \u001b[0murl\u001b[0m\u001b[1;33m,\u001b[0m \u001b[0mmethod\u001b[0m\u001b[1;33m)\u001b[0m\u001b[1;33m\u001b[0m\u001b[0m\n",
      "\u001b[0;32mC:\\Users\\Burki\\Anaconda3\\lib\\site-packages\\birdy\\twitter.py\u001b[0m in \u001b[0;36mmake_api_call\u001b[0;34m(self, method, url, **request_kwargs)\u001b[0m\n\u001b[1;32m    166\u001b[0m \u001b[1;33m\u001b[0m\u001b[0m\n\u001b[1;32m    167\u001b[0m     \u001b[1;32mdef\u001b[0m \u001b[0mmake_api_call\u001b[0m\u001b[1;33m(\u001b[0m\u001b[0mself\u001b[0m\u001b[1;33m,\u001b[0m \u001b[0mmethod\u001b[0m\u001b[1;33m,\u001b[0m \u001b[0murl\u001b[0m\u001b[1;33m,\u001b[0m \u001b[1;33m**\u001b[0m\u001b[0mrequest_kwargs\u001b[0m\u001b[1;33m)\u001b[0m\u001b[1;33m:\u001b[0m\u001b[1;33m\u001b[0m\u001b[0m\n\u001b[0;32m--> 168\u001b[0;31m         \u001b[1;32mreturn\u001b[0m \u001b[0mself\u001b[0m\u001b[1;33m.\u001b[0m\u001b[0msession\u001b[0m\u001b[1;33m.\u001b[0m\u001b[0mrequest\u001b[0m\u001b[1;33m(\u001b[0m\u001b[0mmethod\u001b[0m\u001b[1;33m,\u001b[0m \u001b[0murl\u001b[0m\u001b[1;33m,\u001b[0m \u001b[1;33m**\u001b[0m\u001b[0mrequest_kwargs\u001b[0m\u001b[1;33m)\u001b[0m\u001b[1;33m\u001b[0m\u001b[0m\n\u001b[0m\u001b[1;32m    169\u001b[0m \u001b[1;33m\u001b[0m\u001b[0m\n\u001b[1;32m    170\u001b[0m     \u001b[1;32mdef\u001b[0m \u001b[0mhandle_response\u001b[0m\u001b[1;33m(\u001b[0m\u001b[0mself\u001b[0m\u001b[1;33m,\u001b[0m \u001b[0mmethod\u001b[0m\u001b[1;33m,\u001b[0m \u001b[0mresponse\u001b[0m\u001b[1;33m)\u001b[0m\u001b[1;33m:\u001b[0m\u001b[1;33m\u001b[0m\u001b[0m\n",
      "\u001b[0;32mC:\\Users\\Burki\\Anaconda3\\lib\\site-packages\\requests\\sessions.py\u001b[0m in \u001b[0;36mrequest\u001b[0;34m(self, method, url, params, data, headers, cookies, files, auth, timeout, allow_redirects, proxies, hooks, stream, verify, cert, json)\u001b[0m\n\u001b[1;32m    473\u001b[0m         }\n\u001b[1;32m    474\u001b[0m         \u001b[0msend_kwargs\u001b[0m\u001b[1;33m.\u001b[0m\u001b[0mupdate\u001b[0m\u001b[1;33m(\u001b[0m\u001b[0msettings\u001b[0m\u001b[1;33m)\u001b[0m\u001b[1;33m\u001b[0m\u001b[0m\n\u001b[0;32m--> 475\u001b[0;31m         \u001b[0mresp\u001b[0m \u001b[1;33m=\u001b[0m \u001b[0mself\u001b[0m\u001b[1;33m.\u001b[0m\u001b[0msend\u001b[0m\u001b[1;33m(\u001b[0m\u001b[0mprep\u001b[0m\u001b[1;33m,\u001b[0m \u001b[1;33m**\u001b[0m\u001b[0msend_kwargs\u001b[0m\u001b[1;33m)\u001b[0m\u001b[1;33m\u001b[0m\u001b[0m\n\u001b[0m\u001b[1;32m    476\u001b[0m \u001b[1;33m\u001b[0m\u001b[0m\n\u001b[1;32m    477\u001b[0m         \u001b[1;32mreturn\u001b[0m \u001b[0mresp\u001b[0m\u001b[1;33m\u001b[0m\u001b[0m\n",
      "\u001b[0;32mC:\\Users\\Burki\\Anaconda3\\lib\\site-packages\\requests\\sessions.py\u001b[0m in \u001b[0;36msend\u001b[0;34m(self, request, **kwargs)\u001b[0m\n\u001b[1;32m    626\u001b[0m \u001b[1;33m\u001b[0m\u001b[0m\n\u001b[1;32m    627\u001b[0m         \u001b[1;32mif\u001b[0m \u001b[1;32mnot\u001b[0m \u001b[0mstream\u001b[0m\u001b[1;33m:\u001b[0m\u001b[1;33m\u001b[0m\u001b[0m\n\u001b[0;32m--> 628\u001b[0;31m             \u001b[0mr\u001b[0m\u001b[1;33m.\u001b[0m\u001b[0mcontent\u001b[0m\u001b[1;33m\u001b[0m\u001b[0m\n\u001b[0m\u001b[1;32m    629\u001b[0m \u001b[1;33m\u001b[0m\u001b[0m\n\u001b[1;32m    630\u001b[0m         \u001b[1;32mreturn\u001b[0m \u001b[0mr\u001b[0m\u001b[1;33m\u001b[0m\u001b[0m\n",
      "\u001b[0;32mC:\\Users\\Burki\\Anaconda3\\lib\\site-packages\\requests\\models.py\u001b[0m in \u001b[0;36mcontent\u001b[0;34m(self)\u001b[0m\n\u001b[1;32m    753\u001b[0m                     \u001b[0mself\u001b[0m\u001b[1;33m.\u001b[0m\u001b[0m_content\u001b[0m \u001b[1;33m=\u001b[0m \u001b[1;32mNone\u001b[0m\u001b[1;33m\u001b[0m\u001b[0m\n\u001b[1;32m    754\u001b[0m                 \u001b[1;32melse\u001b[0m\u001b[1;33m:\u001b[0m\u001b[1;33m\u001b[0m\u001b[0m\n\u001b[0;32m--> 755\u001b[0;31m                     \u001b[0mself\u001b[0m\u001b[1;33m.\u001b[0m\u001b[0m_content\u001b[0m \u001b[1;33m=\u001b[0m \u001b[0mbytes\u001b[0m\u001b[1;33m(\u001b[0m\u001b[1;33m)\u001b[0m\u001b[1;33m.\u001b[0m\u001b[0mjoin\u001b[0m\u001b[1;33m(\u001b[0m\u001b[0mself\u001b[0m\u001b[1;33m.\u001b[0m\u001b[0miter_content\u001b[0m\u001b[1;33m(\u001b[0m\u001b[0mCONTENT_CHUNK_SIZE\u001b[0m\u001b[1;33m)\u001b[0m\u001b[1;33m)\u001b[0m \u001b[1;32mor\u001b[0m \u001b[0mbytes\u001b[0m\u001b[1;33m(\u001b[0m\u001b[1;33m)\u001b[0m\u001b[1;33m\u001b[0m\u001b[0m\n\u001b[0m\u001b[1;32m    756\u001b[0m \u001b[1;33m\u001b[0m\u001b[0m\n\u001b[1;32m    757\u001b[0m             \u001b[1;32mexcept\u001b[0m \u001b[0mAttributeError\u001b[0m\u001b[1;33m:\u001b[0m\u001b[1;33m\u001b[0m\u001b[0m\n",
      "\u001b[0;32mC:\\Users\\Burki\\Anaconda3\\lib\\site-packages\\requests\\models.py\u001b[0m in \u001b[0;36mgenerate\u001b[0;34m()\u001b[0m\n\u001b[1;32m    674\u001b[0m             \u001b[1;32mif\u001b[0m \u001b[0mhasattr\u001b[0m\u001b[1;33m(\u001b[0m\u001b[0mself\u001b[0m\u001b[1;33m.\u001b[0m\u001b[0mraw\u001b[0m\u001b[1;33m,\u001b[0m \u001b[1;34m'stream'\u001b[0m\u001b[1;33m)\u001b[0m\u001b[1;33m:\u001b[0m\u001b[1;33m\u001b[0m\u001b[0m\n\u001b[1;32m    675\u001b[0m                 \u001b[1;32mtry\u001b[0m\u001b[1;33m:\u001b[0m\u001b[1;33m\u001b[0m\u001b[0m\n\u001b[0;32m--> 676\u001b[0;31m                     \u001b[1;32mfor\u001b[0m \u001b[0mchunk\u001b[0m \u001b[1;32min\u001b[0m \u001b[0mself\u001b[0m\u001b[1;33m.\u001b[0m\u001b[0mraw\u001b[0m\u001b[1;33m.\u001b[0m\u001b[0mstream\u001b[0m\u001b[1;33m(\u001b[0m\u001b[0mchunk_size\u001b[0m\u001b[1;33m,\u001b[0m \u001b[0mdecode_content\u001b[0m\u001b[1;33m=\u001b[0m\u001b[1;32mTrue\u001b[0m\u001b[1;33m)\u001b[0m\u001b[1;33m:\u001b[0m\u001b[1;33m\u001b[0m\u001b[0m\n\u001b[0m\u001b[1;32m    677\u001b[0m                         \u001b[1;32myield\u001b[0m \u001b[0mchunk\u001b[0m\u001b[1;33m\u001b[0m\u001b[0m\n\u001b[1;32m    678\u001b[0m                 \u001b[1;32mexcept\u001b[0m \u001b[0mProtocolError\u001b[0m \u001b[1;32mas\u001b[0m \u001b[0me\u001b[0m\u001b[1;33m:\u001b[0m\u001b[1;33m\u001b[0m\u001b[0m\n",
      "\u001b[0;32mC:\\Users\\Burki\\Anaconda3\\lib\\site-packages\\requests\\packages\\urllib3\\response.py\u001b[0m in \u001b[0;36mstream\u001b[0;34m(self, amt, decode_content)\u001b[0m\n\u001b[1;32m    355\u001b[0m         \u001b[1;32melse\u001b[0m\u001b[1;33m:\u001b[0m\u001b[1;33m\u001b[0m\u001b[0m\n\u001b[1;32m    356\u001b[0m             \u001b[1;32mwhile\u001b[0m \u001b[1;32mnot\u001b[0m \u001b[0mis_fp_closed\u001b[0m\u001b[1;33m(\u001b[0m\u001b[0mself\u001b[0m\u001b[1;33m.\u001b[0m\u001b[0m_fp\u001b[0m\u001b[1;33m)\u001b[0m\u001b[1;33m:\u001b[0m\u001b[1;33m\u001b[0m\u001b[0m\n\u001b[0;32m--> 357\u001b[0;31m                 \u001b[0mdata\u001b[0m \u001b[1;33m=\u001b[0m \u001b[0mself\u001b[0m\u001b[1;33m.\u001b[0m\u001b[0mread\u001b[0m\u001b[1;33m(\u001b[0m\u001b[0mamt\u001b[0m\u001b[1;33m=\u001b[0m\u001b[0mamt\u001b[0m\u001b[1;33m,\u001b[0m \u001b[0mdecode_content\u001b[0m\u001b[1;33m=\u001b[0m\u001b[0mdecode_content\u001b[0m\u001b[1;33m)\u001b[0m\u001b[1;33m\u001b[0m\u001b[0m\n\u001b[0m\u001b[1;32m    358\u001b[0m \u001b[1;33m\u001b[0m\u001b[0m\n\u001b[1;32m    359\u001b[0m                 \u001b[1;32mif\u001b[0m \u001b[0mdata\u001b[0m\u001b[1;33m:\u001b[0m\u001b[1;33m\u001b[0m\u001b[0m\n",
      "\u001b[0;32mC:\\Users\\Burki\\Anaconda3\\lib\\site-packages\\requests\\packages\\urllib3\\response.py\u001b[0m in \u001b[0;36mread\u001b[0;34m(self, amt, decode_content, cache_content)\u001b[0m\n\u001b[1;32m    312\u001b[0m             \u001b[1;32melse\u001b[0m\u001b[1;33m:\u001b[0m\u001b[1;33m\u001b[0m\u001b[0m\n\u001b[1;32m    313\u001b[0m                 \u001b[0mcache_content\u001b[0m \u001b[1;33m=\u001b[0m \u001b[1;32mFalse\u001b[0m\u001b[1;33m\u001b[0m\u001b[0m\n\u001b[0;32m--> 314\u001b[0;31m                 \u001b[0mdata\u001b[0m \u001b[1;33m=\u001b[0m \u001b[0mself\u001b[0m\u001b[1;33m.\u001b[0m\u001b[0m_fp\u001b[0m\u001b[1;33m.\u001b[0m\u001b[0mread\u001b[0m\u001b[1;33m(\u001b[0m\u001b[0mamt\u001b[0m\u001b[1;33m)\u001b[0m\u001b[1;33m\u001b[0m\u001b[0m\n\u001b[0m\u001b[1;32m    315\u001b[0m                 \u001b[1;32mif\u001b[0m \u001b[0mamt\u001b[0m \u001b[1;33m!=\u001b[0m \u001b[1;36m0\u001b[0m \u001b[1;32mand\u001b[0m \u001b[1;32mnot\u001b[0m \u001b[0mdata\u001b[0m\u001b[1;33m:\u001b[0m  \u001b[1;31m# Platform-specific: Buggy versions of Python.\u001b[0m\u001b[1;33m\u001b[0m\u001b[0m\n\u001b[1;32m    316\u001b[0m                     \u001b[1;31m# Close the connection when no data is returned\u001b[0m\u001b[1;33m\u001b[0m\u001b[1;33m\u001b[0m\u001b[0m\n",
      "\u001b[0;32mC:\\Users\\Burki\\Anaconda3\\lib\\http\\client.py\u001b[0m in \u001b[0;36mread\u001b[0;34m(self, amt)\u001b[0m\n\u001b[1;32m    446\u001b[0m             \u001b[1;31m# Amount is given, implement using readinto\u001b[0m\u001b[1;33m\u001b[0m\u001b[1;33m\u001b[0m\u001b[0m\n\u001b[1;32m    447\u001b[0m             \u001b[0mb\u001b[0m \u001b[1;33m=\u001b[0m \u001b[0mbytearray\u001b[0m\u001b[1;33m(\u001b[0m\u001b[0mamt\u001b[0m\u001b[1;33m)\u001b[0m\u001b[1;33m\u001b[0m\u001b[0m\n\u001b[0;32m--> 448\u001b[0;31m             \u001b[0mn\u001b[0m \u001b[1;33m=\u001b[0m \u001b[0mself\u001b[0m\u001b[1;33m.\u001b[0m\u001b[0mreadinto\u001b[0m\u001b[1;33m(\u001b[0m\u001b[0mb\u001b[0m\u001b[1;33m)\u001b[0m\u001b[1;33m\u001b[0m\u001b[0m\n\u001b[0m\u001b[1;32m    449\u001b[0m             \u001b[1;32mreturn\u001b[0m \u001b[0mmemoryview\u001b[0m\u001b[1;33m(\u001b[0m\u001b[0mb\u001b[0m\u001b[1;33m)\u001b[0m\u001b[1;33m[\u001b[0m\u001b[1;33m:\u001b[0m\u001b[0mn\u001b[0m\u001b[1;33m]\u001b[0m\u001b[1;33m.\u001b[0m\u001b[0mtobytes\u001b[0m\u001b[1;33m(\u001b[0m\u001b[1;33m)\u001b[0m\u001b[1;33m\u001b[0m\u001b[0m\n\u001b[1;32m    450\u001b[0m         \u001b[1;32melse\u001b[0m\u001b[1;33m:\u001b[0m\u001b[1;33m\u001b[0m\u001b[0m\n",
      "\u001b[0;32mC:\\Users\\Burki\\Anaconda3\\lib\\http\\client.py\u001b[0m in \u001b[0;36mreadinto\u001b[0;34m(self, b)\u001b[0m\n\u001b[1;32m    486\u001b[0m         \u001b[1;31m# connection, and the user is reading more bytes than will be provided\u001b[0m\u001b[1;33m\u001b[0m\u001b[1;33m\u001b[0m\u001b[0m\n\u001b[1;32m    487\u001b[0m         \u001b[1;31m# (for example, reading in 1k chunks)\u001b[0m\u001b[1;33m\u001b[0m\u001b[1;33m\u001b[0m\u001b[0m\n\u001b[0;32m--> 488\u001b[0;31m         \u001b[0mn\u001b[0m \u001b[1;33m=\u001b[0m \u001b[0mself\u001b[0m\u001b[1;33m.\u001b[0m\u001b[0mfp\u001b[0m\u001b[1;33m.\u001b[0m\u001b[0mreadinto\u001b[0m\u001b[1;33m(\u001b[0m\u001b[0mb\u001b[0m\u001b[1;33m)\u001b[0m\u001b[1;33m\u001b[0m\u001b[0m\n\u001b[0m\u001b[1;32m    489\u001b[0m         \u001b[1;32mif\u001b[0m \u001b[1;32mnot\u001b[0m \u001b[0mn\u001b[0m \u001b[1;32mand\u001b[0m \u001b[0mb\u001b[0m\u001b[1;33m:\u001b[0m\u001b[1;33m\u001b[0m\u001b[0m\n\u001b[1;32m    490\u001b[0m             \u001b[1;31m# Ideally, we would raise IncompleteRead if the content-length\u001b[0m\u001b[1;33m\u001b[0m\u001b[1;33m\u001b[0m\u001b[0m\n",
      "\u001b[0;32mC:\\Users\\Burki\\Anaconda3\\lib\\socket.py\u001b[0m in \u001b[0;36mreadinto\u001b[0;34m(self, b)\u001b[0m\n\u001b[1;32m    573\u001b[0m         \u001b[1;32mwhile\u001b[0m \u001b[1;32mTrue\u001b[0m\u001b[1;33m:\u001b[0m\u001b[1;33m\u001b[0m\u001b[0m\n\u001b[1;32m    574\u001b[0m             \u001b[1;32mtry\u001b[0m\u001b[1;33m:\u001b[0m\u001b[1;33m\u001b[0m\u001b[0m\n\u001b[0;32m--> 575\u001b[0;31m                 \u001b[1;32mreturn\u001b[0m \u001b[0mself\u001b[0m\u001b[1;33m.\u001b[0m\u001b[0m_sock\u001b[0m\u001b[1;33m.\u001b[0m\u001b[0mrecv_into\u001b[0m\u001b[1;33m(\u001b[0m\u001b[0mb\u001b[0m\u001b[1;33m)\u001b[0m\u001b[1;33m\u001b[0m\u001b[0m\n\u001b[0m\u001b[1;32m    576\u001b[0m             \u001b[1;32mexcept\u001b[0m \u001b[0mtimeout\u001b[0m\u001b[1;33m:\u001b[0m\u001b[1;33m\u001b[0m\u001b[0m\n\u001b[1;32m    577\u001b[0m                 \u001b[0mself\u001b[0m\u001b[1;33m.\u001b[0m\u001b[0m_timeout_occurred\u001b[0m \u001b[1;33m=\u001b[0m \u001b[1;32mTrue\u001b[0m\u001b[1;33m\u001b[0m\u001b[0m\n",
      "\u001b[0;32mC:\\Users\\Burki\\Anaconda3\\lib\\ssl.py\u001b[0m in \u001b[0;36mrecv_into\u001b[0;34m(self, buffer, nbytes, flags)\u001b[0m\n\u001b[1;32m    927\u001b[0m                   \u001b[1;34m\"non-zero flags not allowed in calls to recv_into() on %s\"\u001b[0m \u001b[1;33m%\u001b[0m\u001b[1;33m\u001b[0m\u001b[0m\n\u001b[1;32m    928\u001b[0m                   self.__class__)\n\u001b[0;32m--> 929\u001b[0;31m             \u001b[1;32mreturn\u001b[0m \u001b[0mself\u001b[0m\u001b[1;33m.\u001b[0m\u001b[0mread\u001b[0m\u001b[1;33m(\u001b[0m\u001b[0mnbytes\u001b[0m\u001b[1;33m,\u001b[0m \u001b[0mbuffer\u001b[0m\u001b[1;33m)\u001b[0m\u001b[1;33m\u001b[0m\u001b[0m\n\u001b[0m\u001b[1;32m    930\u001b[0m         \u001b[1;32melse\u001b[0m\u001b[1;33m:\u001b[0m\u001b[1;33m\u001b[0m\u001b[0m\n\u001b[1;32m    931\u001b[0m             \u001b[1;32mreturn\u001b[0m \u001b[0msocket\u001b[0m\u001b[1;33m.\u001b[0m\u001b[0mrecv_into\u001b[0m\u001b[1;33m(\u001b[0m\u001b[0mself\u001b[0m\u001b[1;33m,\u001b[0m \u001b[0mbuffer\u001b[0m\u001b[1;33m,\u001b[0m \u001b[0mnbytes\u001b[0m\u001b[1;33m,\u001b[0m \u001b[0mflags\u001b[0m\u001b[1;33m)\u001b[0m\u001b[1;33m\u001b[0m\u001b[0m\n",
      "\u001b[0;32mC:\\Users\\Burki\\Anaconda3\\lib\\ssl.py\u001b[0m in \u001b[0;36mread\u001b[0;34m(self, len, buffer)\u001b[0m\n\u001b[1;32m    789\u001b[0m             \u001b[1;32mraise\u001b[0m \u001b[0mValueError\u001b[0m\u001b[1;33m(\u001b[0m\u001b[1;34m\"Read on closed or unwrapped SSL socket.\"\u001b[0m\u001b[1;33m)\u001b[0m\u001b[1;33m\u001b[0m\u001b[0m\n\u001b[1;32m    790\u001b[0m         \u001b[1;32mtry\u001b[0m\u001b[1;33m:\u001b[0m\u001b[1;33m\u001b[0m\u001b[0m\n\u001b[0;32m--> 791\u001b[0;31m             \u001b[1;32mreturn\u001b[0m \u001b[0mself\u001b[0m\u001b[1;33m.\u001b[0m\u001b[0m_sslobj\u001b[0m\u001b[1;33m.\u001b[0m\u001b[0mread\u001b[0m\u001b[1;33m(\u001b[0m\u001b[0mlen\u001b[0m\u001b[1;33m,\u001b[0m \u001b[0mbuffer\u001b[0m\u001b[1;33m)\u001b[0m\u001b[1;33m\u001b[0m\u001b[0m\n\u001b[0m\u001b[1;32m    792\u001b[0m         \u001b[1;32mexcept\u001b[0m \u001b[0mSSLError\u001b[0m \u001b[1;32mas\u001b[0m \u001b[0mx\u001b[0m\u001b[1;33m:\u001b[0m\u001b[1;33m\u001b[0m\u001b[0m\n\u001b[1;32m    793\u001b[0m             \u001b[1;32mif\u001b[0m \u001b[0mx\u001b[0m\u001b[1;33m.\u001b[0m\u001b[0margs\u001b[0m\u001b[1;33m[\u001b[0m\u001b[1;36m0\u001b[0m\u001b[1;33m]\u001b[0m \u001b[1;33m==\u001b[0m \u001b[0mSSL_ERROR_EOF\u001b[0m \u001b[1;32mand\u001b[0m \u001b[0mself\u001b[0m\u001b[1;33m.\u001b[0m\u001b[0msuppress_ragged_eofs\u001b[0m\u001b[1;33m:\u001b[0m\u001b[1;33m\u001b[0m\u001b[0m\n",
      "\u001b[0;32mC:\\Users\\Burki\\Anaconda3\\lib\\ssl.py\u001b[0m in \u001b[0;36mread\u001b[0;34m(self, len, buffer)\u001b[0m\n\u001b[1;32m    573\u001b[0m         \"\"\"\n\u001b[1;32m    574\u001b[0m         \u001b[1;32mif\u001b[0m \u001b[0mbuffer\u001b[0m \u001b[1;32mis\u001b[0m \u001b[1;32mnot\u001b[0m \u001b[1;32mNone\u001b[0m\u001b[1;33m:\u001b[0m\u001b[1;33m\u001b[0m\u001b[0m\n\u001b[0;32m--> 575\u001b[0;31m             \u001b[0mv\u001b[0m \u001b[1;33m=\u001b[0m \u001b[0mself\u001b[0m\u001b[1;33m.\u001b[0m\u001b[0m_sslobj\u001b[0m\u001b[1;33m.\u001b[0m\u001b[0mread\u001b[0m\u001b[1;33m(\u001b[0m\u001b[0mlen\u001b[0m\u001b[1;33m,\u001b[0m \u001b[0mbuffer\u001b[0m\u001b[1;33m)\u001b[0m\u001b[1;33m\u001b[0m\u001b[0m\n\u001b[0m\u001b[1;32m    576\u001b[0m         \u001b[1;32melse\u001b[0m\u001b[1;33m:\u001b[0m\u001b[1;33m\u001b[0m\u001b[0m\n\u001b[1;32m    577\u001b[0m             \u001b[0mv\u001b[0m \u001b[1;33m=\u001b[0m \u001b[0mself\u001b[0m\u001b[1;33m.\u001b[0m\u001b[0m_sslobj\u001b[0m\u001b[1;33m.\u001b[0m\u001b[0mread\u001b[0m\u001b[1;33m(\u001b[0m\u001b[0mlen\u001b[0m\u001b[1;33m)\u001b[0m\u001b[1;33m\u001b[0m\u001b[0m\n",
      "\u001b[0;31mKeyboardInterrupt\u001b[0m: "
     ]
    }
   ],
   "source": [
    "userTweets = []\n",
    "\n",
    "keyInd = 1\n",
    "client = UserClient(key[keyInd][0], key[keyInd][1], key[keyInd][2], key[keyInd][3])\n",
    "\n",
    "for i, user in enumerate(userIDs):\n",
    "    filename = \"tweets/\" + user + \".txt\"\n",
    "    f = open(filename, 'w', encoding='utf-8')\n",
    "    \n",
    "    print(usernames[i] + ' - ' + str(user))\n",
    "    protec = False\n",
    "    twe = []\n",
    "    \n",
    "    while(True):\n",
    "        try:\n",
    "            response = client.api.statuses.user_timeline.get(user_id=user, count=200)\n",
    "            break\n",
    "        except Exception as err:\n",
    "            print(err.status_code)\n",
    "            print(err)\n",
    "            if err.status_code == 429:\n",
    "                sleep(60)\n",
    "                keyInd = (keyInd + 1)%len(key)\n",
    "            elif err.status_code == 404:\n",
    "                protec = True\n",
    "                break\n",
    "            else:\n",
    "                sleep(15)\n",
    "            \n",
    "            client = UserClient(key[keyInd][0], key[keyInd][1], key[keyInd][2], key[keyInd][3])\n",
    "            \n",
    "    if protec or len(response.data) == 0:\n",
    "        userTweets.append([])\n",
    "        print('protected!')\n",
    "        f.close()\n",
    "        continue\n",
    "        \n",
    "    for d in response.data:\n",
    "        twe.append(d['text'])\n",
    "        f.write(d['text'])\n",
    "        f.write(\" \")\n",
    "        \n",
    "    maxID = response.data[-1]['id']\n",
    "    \n",
    "    while(True):\n",
    "        while(True):\n",
    "            try:\n",
    "                response = client.api.statuses.user_timeline.get(user_id=user, count=200, max_id = maxID-1)\n",
    "                break\n",
    "            except Exception as err:\n",
    "                print(err.status_code)\n",
    "                print(err)\n",
    "                if err.status_code == 429:\n",
    "                    sleep(60)\n",
    "                    keyInd = (keyInd + 1)%len(key)\n",
    "                else:\n",
    "                    sleep(15)\n",
    "                client = UserClient(key[keyInd][0], key[keyInd][1], key[keyInd][2], key[keyInd][3])\n",
    "        \n",
    "        if len(response.data) == 0:\n",
    "            break\n",
    "        \n",
    "        for d in response.data:\n",
    "            twe.append(d['text'])\n",
    "            f.write(d['text'])\n",
    "            f.write(\" \")\n",
    "            \n",
    "        maxID = response.data[-1]['id']\n",
    "            \n",
    "    userTweets.append(twe)\n",
    "    f.close()"
   ]
  }
 ],
 "metadata": {
  "anaconda-cloud": {},
  "kernelspec": {
   "display_name": "Python [conda root]",
   "language": "python",
   "name": "conda-root-py"
  },
  "language_info": {
   "codemirror_mode": {
    "name": "ipython",
    "version": 3
   },
   "file_extension": ".py",
   "mimetype": "text/x-python",
   "name": "python",
   "nbconvert_exporter": "python",
   "pygments_lexer": "ipython3",
   "version": "3.5.2"
  }
 },
 "nbformat": 4,
 "nbformat_minor": 2
}
